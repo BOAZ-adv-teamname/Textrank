{
  "nbformat": 4,
  "nbformat_minor": 0,
  "metadata": {
    "colab": {
      "name": "0712 Split Sentence.ipynb",
      "provenance": [],
      "collapsed_sections": []
    },
    "kernelspec": {
      "name": "python3",
      "display_name": "Python 3"
    },
    "language_info": {
      "name": "python"
    }
  },
  "cells": [
    {
      "cell_type": "markdown",
      "metadata": {
        "id": "oQgzCW5eNWBJ"
      },
      "source": [
        "# Split Sentence"
      ]
    },
    {
      "cell_type": "code",
      "metadata": {
        "colab": {
          "base_uri": "https://localhost:8080/"
        },
        "id": "NP-g3j_4La4F",
        "outputId": "84f50756-70b8-4b9a-e8c1-c5beaa028ef2"
      },
      "source": [
        "from google.colab import drive\n",
        "drive.mount('/content/drive')"
      ],
      "execution_count": null,
      "outputs": [
        {
          "output_type": "stream",
          "text": [
            "Mounted at /content/drive\n"
          ],
          "name": "stdout"
        }
      ]
    },
    {
      "cell_type": "code",
      "metadata": {
        "id": "mC2V6jj-LfqL"
      },
      "source": [
        "import os\n",
        "os.chdir('/content/drive/MyDrive/BOAZ_ADV_대법관_김보아즈/data')"
      ],
      "execution_count": null,
      "outputs": []
    },
    {
      "cell_type": "code",
      "metadata": {
        "colab": {
          "base_uri": "https://localhost:8080/"
        },
        "id": "P0rdh9Tr1kpQ",
        "outputId": "70f063a2-0da0-45ab-8f64-826aaacc7fa6"
      },
      "source": [
        "!pip install kss"
      ],
      "execution_count": null,
      "outputs": [
        {
          "output_type": "stream",
          "text": [
            "Collecting kss\n",
            "\u001b[?25l  Downloading https://files.pythonhosted.org/packages/ed/ea/3030770642a58a08777dfa324a1b65a2f53f1574de8dd84424851f0c2ec7/kss-2.5.1-py3-none-any.whl (65kB)\n",
            "\r\u001b[K     |█████                           | 10kB 10.0MB/s eta 0:00:01\r\u001b[K     |██████████                      | 20kB 9.5MB/s eta 0:00:01\r\u001b[K     |███████████████                 | 30kB 7.8MB/s eta 0:00:01\r\u001b[K     |███████████████████▉            | 40kB 7.3MB/s eta 0:00:01\r\u001b[K     |████████████████████████▉       | 51kB 4.0MB/s eta 0:00:01\r\u001b[K     |█████████████████████████████▉  | 61kB 4.2MB/s eta 0:00:01\r\u001b[K     |████████████████████████████████| 71kB 2.9MB/s \n",
            "\u001b[?25hInstalling collected packages: kss\n",
            "Successfully installed kss-2.5.1\n"
          ],
          "name": "stdout"
        }
      ]
    },
    {
      "cell_type": "code",
      "metadata": {
        "colab": {
          "base_uri": "https://localhost:8080/"
        },
        "id": "_dmJO5stLnbI",
        "outputId": "51a36c07-0679-4d26-c63c-00d528220176"
      },
      "source": [
        "import pandas as pd\n",
        "import kss\n",
        "from tqdm import tqdm\n",
        "tqdm.pandas()"
      ],
      "execution_count": null,
      "outputs": [
        {
          "output_type": "stream",
          "text": [
            "/usr/local/lib/python3.7/dist-packages/tqdm/std.py:658: FutureWarning: The Panel class is removed from pandas. Accessing it from the top-level namespace will also be removed in the next version\n",
            "  from pandas import Panel\n"
          ],
          "name": "stderr"
        }
      ]
    },
    {
      "cell_type": "code",
      "metadata": {
        "id": "t-zPRo-DLoix"
      },
      "source": [
        "laws_long = pd.read_csv('textrank_to_kobart/too_long.csv')"
      ],
      "execution_count": null,
      "outputs": []
    },
    {
      "cell_type": "code",
      "metadata": {
        "colab": {
          "base_uri": "https://localhost:8080/",
          "height": 162
        },
        "id": "AjpNB24YL0uv",
        "outputId": "37038742-da02-4d0f-e152-2ce5ba0012ab"
      },
      "source": [
        "laws_long.head(2)"
      ],
      "execution_count": null,
      "outputs": [
        {
          "output_type": "execute_result",
          "data": {
            "text/html": [
              "<div>\n",
              "<style scoped>\n",
              "    .dataframe tbody tr th:only-of-type {\n",
              "        vertical-align: middle;\n",
              "    }\n",
              "\n",
              "    .dataframe tbody tr th {\n",
              "        vertical-align: top;\n",
              "    }\n",
              "\n",
              "    .dataframe thead th {\n",
              "        text-align: right;\n",
              "    }\n",
              "</style>\n",
              "<table border=\"1\" class=\"dataframe\">\n",
              "  <thead>\n",
              "    <tr style=\"text-align: right;\">\n",
              "      <th></th>\n",
              "      <th>Unnamed: 0</th>\n",
              "      <th>category</th>\n",
              "      <th>article_original</th>\n",
              "      <th>abstract</th>\n",
              "      <th>kobart_sum</th>\n",
              "    </tr>\n",
              "  </thead>\n",
              "  <tbody>\n",
              "    <tr>\n",
              "      <th>0</th>\n",
              "      <td>3</td>\n",
              "      <td>점포명도(본소),점포소유권(반소)이전등기</td>\n",
              "      <td>처분문서는 그 성립이 진정한 것으로 인정되는 이상 그 문서의 의의를 해석함에 있...</td>\n",
              "      <td>처분문서 해석의 기초</td>\n",
              "      <td>NaN</td>\n",
              "    </tr>\n",
              "    <tr>\n",
              "      <th>1</th>\n",
              "      <td>6</td>\n",
              "      <td>완전물급부등</td>\n",
              "      <td>상고이유(상고이유서 제출기간이 지난 후에 제출된 상고이유보충서의 기재는 상고이유...</td>\n",
              "      <td>[1] 甲 주식회사가 乙 주식회사에 매도한 고가의 외국산 차량이 신호 대기 중 시동...</td>\n",
              "      <td>NaN</td>\n",
              "    </tr>\n",
              "  </tbody>\n",
              "</table>\n",
              "</div>"
            ],
            "text/plain": [
              "   Unnamed: 0  ... kobart_sum\n",
              "0           3  ...        NaN\n",
              "1           6  ...        NaN\n",
              "\n",
              "[2 rows x 5 columns]"
            ]
          },
          "metadata": {
            "tags": []
          },
          "execution_count": 5
        }
      ]
    },
    {
      "cell_type": "code",
      "metadata": {
        "colab": {
          "base_uri": "https://localhost:8080/"
        },
        "id": "CTDD37UpwWeU",
        "outputId": "1f87ffe2-c598-482a-bd5e-fae86242056e"
      },
      "source": [
        "laws_long['sentence'] = laws_long['article_original'].progress_apply(lambda x: kss.split_sentences(x))"
      ],
      "execution_count": null,
      "outputs": [
        {
          "output_type": "stream",
          "text": [
            "100%|██████████| 37040/37040 [54:02<00:00, 11.42it/s]\n"
          ],
          "name": "stderr"
        }
      ]
    },
    {
      "cell_type": "code",
      "metadata": {
        "colab": {
          "base_uri": "https://localhost:8080/",
          "height": 162
        },
        "id": "HK76zP6kNf7O",
        "outputId": "9ab146f7-a7ee-4eac-b895-07b89763da3f"
      },
      "source": [
        "laws_long.head(2)"
      ],
      "execution_count": null,
      "outputs": [
        {
          "output_type": "execute_result",
          "data": {
            "text/html": [
              "<div>\n",
              "<style scoped>\n",
              "    .dataframe tbody tr th:only-of-type {\n",
              "        vertical-align: middle;\n",
              "    }\n",
              "\n",
              "    .dataframe tbody tr th {\n",
              "        vertical-align: top;\n",
              "    }\n",
              "\n",
              "    .dataframe thead th {\n",
              "        text-align: right;\n",
              "    }\n",
              "</style>\n",
              "<table border=\"1\" class=\"dataframe\">\n",
              "  <thead>\n",
              "    <tr style=\"text-align: right;\">\n",
              "      <th></th>\n",
              "      <th>Unnamed: 0</th>\n",
              "      <th>category</th>\n",
              "      <th>article_original</th>\n",
              "      <th>abstract</th>\n",
              "      <th>kobart_sum</th>\n",
              "      <th>sentence</th>\n",
              "    </tr>\n",
              "  </thead>\n",
              "  <tbody>\n",
              "    <tr>\n",
              "      <th>0</th>\n",
              "      <td>3</td>\n",
              "      <td>점포명도(본소),점포소유권(반소)이전등기</td>\n",
              "      <td>처분문서는 그 성립이 진정한 것으로 인정되는 이상 그 문서의 의의를 해석함에 있...</td>\n",
              "      <td>처분문서 해석의 기초</td>\n",
              "      <td>NaN</td>\n",
              "      <td>[처분문서는 그 성립이 진정한 것으로 인정되는 이상 그 문서의 의의를 해석함에 있어...</td>\n",
              "    </tr>\n",
              "    <tr>\n",
              "      <th>1</th>\n",
              "      <td>6</td>\n",
              "      <td>완전물급부등</td>\n",
              "      <td>상고이유(상고이유서 제출기간이 지난 후에 제출된 상고이유보충서의 기재는 상고이유...</td>\n",
              "      <td>[1] 甲 주식회사가 乙 주식회사에 매도한 고가의 외국산 차량이 신호 대기 중 시동...</td>\n",
              "      <td>NaN</td>\n",
              "      <td>[상고이유(상고이유서 제출기간이 지난 후에 제출된 상고이유보충서의 기재는 상고이유를...</td>\n",
              "    </tr>\n",
              "  </tbody>\n",
              "</table>\n",
              "</div>"
            ],
            "text/plain": [
              "   Unnamed: 0  ...                                           sentence\n",
              "0           3  ...  [처분문서는 그 성립이 진정한 것으로 인정되는 이상 그 문서의 의의를 해석함에 있어...\n",
              "1           6  ...  [상고이유(상고이유서 제출기간이 지난 후에 제출된 상고이유보충서의 기재는 상고이유를...\n",
              "\n",
              "[2 rows x 6 columns]"
            ]
          },
          "metadata": {
            "tags": []
          },
          "execution_count": 59
        }
      ]
    },
    {
      "cell_type": "code",
      "metadata": {
        "colab": {
          "base_uri": "https://localhost:8080/",
          "height": 358
        },
        "id": "TzT09jdeNi8o",
        "outputId": "fc6eb4f3-b368-4ce8-b52c-c5840b84f1b0"
      },
      "source": [
        "laws_long['article_original'][0]"
      ],
      "execution_count": null,
      "outputs": [
        {
          "output_type": "execute_result",
          "data": {
            "application/vnd.google.colaboratory.intrinsic+json": {
              "type": "string"
            },
            "text/plain": [
              "'  처분문서는 그 성립이 진정한 것으로 인정되는 이상 그 문서의 의의를 해석함에 있어서는 동 문서의 명문을 기초로 하여야 할 것이고 이를 무시하는 해석은 이를 허용할 수 없다 할 것인 바 원판결 이유에 의하면 원심은 증거에 의하여 본건 계쟁건물의 대지 7평은 원고의 소유인 바 원판시 금천교 시장조합은 차를 원고로부터 임차하여 그 임대차계약서를 소외 한중희가 보관하다가 1956년 2월 경에 점포 임차계약 경신을 위하여 그 계약서를 원고에게 수교하였던 바 원고는 기후 차를 반환하지 아니하고 갑 제2호증(점포 임대차 계약서) 계약문서 즉 대지 계약서를 점포계약서로 작성하여 조합에 제출하고 조합에서는 소외 문학우가 당시 우조합 상무이사(총무)로서 착오로 우 갑 제2호증에 당사자의 날인을 하여 준 것이라고 판시하였으나 기록에 의하여 갑 제2호증을 검토하건대 본건 계쟁 201호 점포 1동은 그 소유자인 원고가 1956년 5월 18일에 연대임차인인 피고 천영우 동 문경선에게 피고 김재근의 연대보증하에 월임 금 25,000환으로 1957년 4월 말일까지 임대하기로 약정한 취지임이 분명하고 차를 금천교 시장조합이 원고로부터 본건 대지 7평을 임차함에 있어서 착오에 인하여 점포 임대차계약서를 작성한 것이라고는 볼 수 없을 것이므로 원심은 차 점에 있어서 판결 결과에 영향이 있는 증거의 해석에 오류를 범하였다 할 것이고 또 원심은 그 판결이유에서 본건 계쟁점포 201호는 타 점포와 여히 201호라는 표시로 기재된 번호판이 있음을 인정할 수없고 동 점포는 실체적으로 우 조합의 소유인 것이 명백하니 차를 원고 명의로 보존등기를경유한 것은 하등의 원인없이 등기를 경유한 것이고 갑 제1호증 동 제5, 6호증 동 제9호증의 1, 2만으로 원고가 본건 점포를 건축하였다는 사실을 인정할 자료로 할 수 없고 그 외 원고의 전거증으로서도 우 인정사실을 번복할 수 없고 그외 하등의 증좌가 없다고 판시하였으나 성립에 다툼이 없는 갑 제4호증(각서)에 의하면 원고 소유 대지내에 금천교시장 건축공사를함에 있어서 경계 측량에 의한 원고 대지내에 건립되는 점포는 건축비를 원고가 부담함은 물론이고 공사 완료 후에는 소유권은 원고에게 속하되 그 중 일개 점포는 금천교 시장조합에서 대여 사용키로하고 공사는 조합에서 대행하기로 하여 약정하고 1955년 7월 20일에 금천교시장 상인조합장 김재근이가 차지 원고앞으로 각서를 제출한 것이 분명한 바 이에 의하면 본건 계쟁 점포 201호도 의당 원고의 소유에 속하는 것이 원칙일 것이고 또 성립에 다툼이 없는 갑 제8호증(가옥대장)에 의하면 본건 계쟁 점포 건물은 원고가 납세의무자로 되어있고 성립에 다툼이 없는 갑 제17호증의 2(등기제 권리증)에 의하면 본건 계쟁 건물은 원고 명의로 보존등기가 되어 있음을 간취할 수 있으므로 원심은 이상 제 증거는 원판시 인정사실과 모순되는 것이므로 의당 이를 심리 판단하여야 할 것이어늘 원심은 막연히 원고의 전거증으로서도 원판시 인정사실을 번복할 수 없고 그외 하등의 증좌가 없다 하여 이에 대한 고려를 하지 아니한 것은 판결의 결과에 영향이 있는 증거에 대한 판단을 유탈한 위법이 있다 할 것이고 또 원심은 그 판결 이유에서 피고 김재근의 반소 청구에 대하여 피고는 본건 점포는 1956년 3월 경 우 조합원등과 합의하여 건축공사비를 선불치 못하여 지불증을 교부하고 소외 이만구의 입체금으로 본건 점포를 건축하였으나 그 후 그 공사금을 피고가 지급하고 조합원등으로부터 본건 점포를 양수하여 피고의 단독 소유로 하였다. 주장하므로 안하니 본건 점포는 우 판시 이유로 피고등의 조합원의 기금으로 건축하고 피고 김재근은 우 조합의 대표로서 동인 명의로 동 점포를 신탁받았다고 인정하므로 피고 조합의 소유인 것이고 피고의 반소는 이유있고 피고가 단독으로 양수하였다는 점에 관하여는 차를 인정할만한 하등의 증좌가 없다고 판시하여 원고에게 대하여 본건 점포 중 원판결 첨부화면 갑,을 부분 건평 7평을 분할하여 그 소유권 이전등기 절차이행을 명하였으나 피고 김재근이가 금천교시장조합 대표로서 동인 명의로 동 점포를 신탁받았다는 점은 기록상 이를 주장한 흔적이 없고 원심이 본건 점포는 피고 조합의 소유라고 판시하였으나 기록상 금천교시장조합이 피고로 제소된 흔적이 없으므로 이는 이유불비에 속하고 또 원심은 본건 점포를 피고가 단독으로 양수하였다는 점에 관하여는 차를 인정할만한 하등의 증좌가 없다고 판시하면서 원고에 대하여 피고에게 본건 점포의 소유권 이전등기 절차 이행을 명한 것은 이유저어에 해당한다 할 것이다대법관 변옥주(재판장) 사광욱 최병석 방준경 나항윤 '"
            ]
          },
          "metadata": {
            "tags": []
          },
          "execution_count": 60
        }
      ]
    },
    {
      "cell_type": "code",
      "metadata": {
        "colab": {
          "base_uri": "https://localhost:8080/"
        },
        "id": "aEArqDaHNneN",
        "outputId": "6bd270ff-7906-4b6a-a950-e64b18943c28"
      },
      "source": [
        "laws_long['sentence'][0]"
      ],
      "execution_count": null,
      "outputs": [
        {
          "output_type": "execute_result",
          "data": {
            "text/plain": [
              "['처분문서는 그 성립이 진정한 것으로 인정되는 이상 그 문서의 의의를 해석함에 있어서는 동 문서의 명문을 기초로 하여야 할 것이고 이를 무시하는 해석은 이를 허용할 수 없다',\n",
              " '할 것인 바 원판결 이유에 의하면 원심은 증거에 의하여 본건 계쟁건물의 대지 7평은 원고의 소유인 바 원판시 금천교 시장조합은 차를 원고로부터 임차하여 그 임대차계약서를 소외 한중희가 보관하다가 1956년 2월 경에 점포 임차계약 경신을 위하여 그 계약서를 원고에게 수교하였던 바 원고는 기후 차를 반환하지 아니하고 갑 제2호증(점포 임대차 계약서) 계약문서 즉 대지 계약서를 점포계약서로 작성하여 조합에 제출하고 조합에서는 소외 문학우가 당시 우조합 상무이사(총무)로서 착오로 우 갑 제2호증에 당사자의 날인을 하여 준 것이라고 판시하였으나 기록에 의하여 갑 제2호증을 검토하건대 본건 계쟁 201호 점포 1동은 그 소유자인 원고가 1956년 5월 18일에 연대임차인인 피고 천영우 동 문경선에게 피고 김재근의 연대보증하에 월임 금 25,000환으로 1957년 4월 말일까지 임대하기로 약정한 취지임이 분명하고 차를 금천교 시장조합이 원고로부터 본건 대지 7평을 임차함에 있어서 착오에 인하여 점포 임대차계약서를 작성한 것이라고는 볼 수 없을 것이므로 원심은 차 점에 있어서 판결 결과에 영향이 있는 증거의 해석에 오류를 범하였다',\n",
              " '할 것이고 또 원심은 그 판결이유에서 본건 계쟁점포 201호는 타 점포와 여히 201호라는 표시로 기재된 번호판이 있음을 인정할 수없고 동 점포는 실체적으로 우 조합의 소유인 것이 명백하니 차를 원고 명의로 보존등기를경유한 것은 하등의 원인없이 등기를 경유한 것이고 갑 제1호증 동 제5, 6호증 동 제9호증의 1, 2만으로 원고가 본건 점포를 건축하였다는 사실을 인정할 자료로 할 수 없고 그 외 원고의 전거증으로서도 우 인정사실을 번복할 수 없고 그외 하등의 증좌가 없다고 판시하였으나 성립에 다툼이 없는 갑 제4호증(각서)에 의하면 원고 소유 대지내에 금천교시장 건축공사를함에 있어서 경계 측량에 의한 원고 대지내에 건립되는 점포는 건축비를 원고가 부담함은 물론이고 공사 완료 후에는 소유권은 원고에게 속하되 그 중 일개 점포는 금천교 시장조합에서 대여 사용키로하고 공사는 조합에서 대행하기로 하여 약정하고 1955년 7월 20일에 금천교시장 상인조합장 김재근이가 차지 원고앞으로 각서를 제출한 것이 분명한 바 이에 의하면 본건 계쟁 점포 201호도 의당 원고의 소유에 속하는 것이 원칙일 것이고 또 성립에 다툼이 없는 갑 제8호증(가옥대장)에 의하면 본건 계쟁 점포 건물은 원고가 납세의무자로 되어있고 성립에 다툼이 없는 갑 제17호증의 2(등기제 권리증)에 의하면 본건 계쟁 건물은 원고 명의로 보존등기가 되어 있음을 간취할 수 있으므로 원심은 이상 제 증거는 원판시 인정사실과 모순되는 것이므로 의당 이를 심리 판단하여야 할 것이어늘 원심은 막연히 원고의 전거증으로서도 원판시 인정사실을 번복할 수 없고 그외 하등의 증좌가 없다 하여 이에 대한 고려를 하지 아니한 것은 판결의 결과에 영향이 있는 증거에 대한 판단을 유탈한 위법이 있다',\n",
              " '할 것이고 또 원심은 그 판결 이유에서 피고 김재근의 반소 청구에 대하여 피고는 본건 점포는 1956년 3월 경 우 조합원등과 합의하여 건축공사비를 선불치 못하여 지불증을 교부하고 소외 이만구의 입체금으로 본건 점포를 건축하였으나 그 후 그 공사금을 피고가 지급하고 조합원등으로부터 본건 점포를 양수하여 피고의 단독 소유로 하였다.',\n",
              " '주장하므로 안하니 본건 점포는 우 판시 이유로 피고등의 조합원의 기금으로 건축하고 피고 김재근은 우 조합의 대표로서 동인 명의로 동 점포를 신탁받았다고 인정하므로 피고 조합의 소유인 것이고 피고의 반소는 이유있고 피고가 단독으로 양수하였다는 점에 관하여는 차를 인정할만한 하등의 증좌가 없다고 판시하여 원고에게 대하여 본건 점포 중 원판결 첨부화면 갑,을 부분 건평 7평을 분할하여 그 소유권 이전등기 절차이행을 명하였으나 피고 김재근이가 금천교시장조합 대표로서 동인 명의로 동 점포를 신탁받았다는 점은 기록상 이를 주장한 흔적이 없고 원심이 본건 점포는 피고 조합의 소유라고 판시하였으나 기록상 금천교시장조합이 피고로 제소된 흔적이 없으므로 이는 이유불비에 속하고 또 원심은 본건 점포를 피고가 단독으로 양수하였다는 점에 관하여는 차를 인정할만한 하등의 증좌가 없다고 판시하면서 원고에 대하여 피고에게 본건 점포의 소유권 이전등기 절차 이행을 명한 것은 이유저어에 해당한다 할 것이다대법관 변옥주(재판장) 사광욱 최병석 방준경 나항윤']"
            ]
          },
          "metadata": {
            "tags": []
          },
          "execution_count": 61
        }
      ]
    },
    {
      "cell_type": "code",
      "metadata": {
        "id": "0X88yqjkMWLx"
      },
      "source": [
        "laws_long.to_csv('/content/drive/MyDrive/BOAZ_ADV_대법관_김보아즈/data/textrank_to_kobart/split_sentence.csv', index=False)"
      ],
      "execution_count": null,
      "outputs": []
    }
  ]
}